{
  "cells": [
    {
      "cell_type": "markdown",
      "metadata": {
        "id": "iBUr5zmrklkb"
      },
      "source": [
        "Numpy arrays"
      ]
    },
    {
      "cell_type": "code",
      "execution_count": 1,
      "metadata": {
        "id": "0E14WpBsklkd"
      },
      "outputs": [],
      "source": [
        "import numpy as np"
      ]
    },
    {
      "cell_type": "code",
      "execution_count": 2,
      "metadata": {
        "colab": {
          "base_uri": "https://localhost:8080/"
        },
        "id": "8Z5ECtZcklke",
        "outputId": "8dba9edf-bae6-4440-9f58-8f6cd8a8bdae"
      },
      "outputs": [
        {
          "output_type": "execute_result",
          "data": {
            "text/plain": [
              "numpy.ndarray"
            ]
          },
          "metadata": {},
          "execution_count": 2
        }
      ],
      "source": [
        "a = np.array([1, 2, 3])\n",
        "# NOT: a = array([1, 2, 3])\n",
        "type(a)"
      ]
    },
    {
      "cell_type": "code",
      "execution_count": 3,
      "metadata": {
        "colab": {
          "base_uri": "https://localhost:8080/"
        },
        "id": "S5FOFspNklkf",
        "outputId": "5ec39917-a9c3-447b-9e1c-d038c7fc2eb0"
      },
      "outputs": [
        {
          "output_type": "execute_result",
          "data": {
            "text/plain": [
              "(3,)"
            ]
          },
          "metadata": {},
          "execution_count": 3
        }
      ],
      "source": [
        "a.shape"
      ]
    },
    {
      "cell_type": "code",
      "execution_count": 12,
      "metadata": {
        "colab": {
          "base_uri": "https://localhost:8080/"
        },
        "id": "Y3D22363klkg",
        "outputId": "f4553230-2647-4c9b-cbca-468bef399f4b"
      },
      "outputs": [
        {
          "output_type": "execute_result",
          "data": {
            "text/plain": [
              "(2, 3)"
            ]
          },
          "metadata": {},
          "execution_count": 12
        }
      ],
      "source": [
        "a = np.array([[1, 2, 3], [4, 5, 6]])\n",
        "a.shape"
      ]
    },
    {
      "cell_type": "markdown",
      "metadata": {
        "id": "1QuBshz2klkg"
      },
      "source": [
        "![Description](numpy.png)"
      ]
    },
    {
      "cell_type": "markdown",
      "metadata": {
        "id": "qUUz4QiZklkg"
      },
      "source": [
        "How to access elements of an array (slicing)"
      ]
    },
    {
      "cell_type": "code",
      "execution_count": 5,
      "metadata": {
        "id": "3zYxMjumklkh"
      },
      "outputs": [],
      "source": [
        "a = np.array([1, 2, 3])\n",
        "# how do we get the second element? Hint: think of lists!"
      ]
    },
    {
      "cell_type": "code",
      "execution_count": 6,
      "metadata": {
        "colab": {
          "base_uri": "https://localhost:8080/"
        },
        "id": "515KYjwBklkh",
        "outputId": "8f30f2f8-af04-458a-eb83-836040a2802e"
      },
      "outputs": [
        {
          "output_type": "stream",
          "name": "stdout",
          "text": [
            "[4 5 6]\n",
            "[4 5 6]\n"
          ]
        }
      ],
      "source": [
        "a = np.array([[1, 2, 3], [4, 5, 6]])\n",
        "# how do we get the second row?\n",
        "print(a[1])\n",
        "print(a[1, :])"
      ]
    },
    {
      "cell_type": "code",
      "execution_count": 13,
      "metadata": {
        "colab": {
          "base_uri": "https://localhost:8080/"
        },
        "id": "BbQD120pklki",
        "outputId": "20985af4-2f24-4d57-ce2f-104e9c53faab"
      },
      "outputs": [
        {
          "output_type": "stream",
          "name": "stdout",
          "text": [
            "[[1 2 3]\n",
            " [4 5 6]]\n",
            "[2 5]\n"
          ]
        }
      ],
      "source": [
        "# and the second column?\n",
        "\n",
        "a = np.array([[1, 2, 3], [4, 5, 6]])\n",
        "print(a[:, 1])"
      ]
    },
    {
      "cell_type": "code",
      "execution_count": 14,
      "metadata": {
        "colab": {
          "base_uri": "https://localhost:8080/"
        },
        "id": "TbKZ1SIsklki",
        "outputId": "d8515593-cc4a-4874-a456-436e86019b19"
      },
      "outputs": [
        {
          "output_type": "stream",
          "name": "stdout",
          "text": [
            "5\n"
          ]
        }
      ],
      "source": [
        "# and how do we get the second element of the second row?\n",
        "\n",
        "a = np.array([[1, 2, 3], [4, 5, 6]])\n",
        "print(a[1,1])"
      ]
    },
    {
      "cell_type": "code",
      "execution_count": 16,
      "metadata": {
        "colab": {
          "base_uri": "https://localhost:8080/"
        },
        "id": "AvaPffRoklkj",
        "outputId": "d84fd881-16a0-4972-fb4d-bbc5fd0e7e9f"
      },
      "outputs": [
        {
          "output_type": "stream",
          "name": "stdout",
          "text": [
            "[ 0  1  2  3  4  5  6  7  8  9 10 11 12 13 14 15]\n"
          ]
        },
        {
          "output_type": "execute_result",
          "data": {
            "text/plain": [
              "array([ 0,  2,  4,  6,  8, 10, 12, 14])"
            ]
          },
          "metadata": {},
          "execution_count": 16
        }
      ],
      "source": [
        "a = np.arange(0, 16)\n",
        "print(a)\n",
        "# how do we get every other element of a?\n",
        "a[::2]"
      ]
    },
    {
      "cell_type": "code",
      "execution_count": 18,
      "metadata": {
        "colab": {
          "base_uri": "https://localhost:8080/"
        },
        "id": "G4TyyeF8klkj",
        "outputId": "ff989ad9-1751-4349-e0aa-1be12e715caf"
      },
      "outputs": [
        {
          "output_type": "stream",
          "name": "stdout",
          "text": [
            "[[ 0  1  2  3]\n",
            " [ 4  5  6  7]\n",
            " [ 8  9 10 11]\n",
            " [12 13 14 15]]\n"
          ]
        },
        {
          "output_type": "execute_result",
          "data": {
            "text/plain": [
              "array([[ 5,  6],\n",
              "       [ 9, 10]])"
            ]
          },
          "metadata": {},
          "execution_count": 18
        }
      ],
      "source": [
        "a = np.reshape(a, (4, 4))\n",
        "print(a)\n",
        "# how do we get the second and third elements of the second and third row?\n",
        "# and if I wanted to replace them with 1?\n",
        "a[1:3, 1:3]"
      ]
    },
    {
      "cell_type": "markdown",
      "metadata": {
        "id": "RxrPwTofklkj"
      },
      "source": [
        "Why do we use arrays instead of lists? Using arrays usually is faster, and uses less memory"
      ]
    },
    {
      "cell_type": "code",
      "execution_count": null,
      "metadata": {
        "id": "kjb2pZ73klkj"
      },
      "outputs": [],
      "source": [
        "# I want to add 0.5 to every element of a list. How do I do that?\n",
        "a = list(range(16))\n",
        "print(a)\n",
        "\n",
        "a = [i + 0.5 for i in a]\n",
        "print(a)\n",
        "\n",
        "a = a * 2\n",
        "print(a)"
      ]
    },
    {
      "cell_type": "code",
      "execution_count": null,
      "metadata": {
        "id": "czgjJy5Zklkk"
      },
      "outputs": [],
      "source": [
        "# using an array\n",
        "a = np.arange(0, 16)\n",
        "print(a)\n",
        "\n",
        "a = a + 0.5\n",
        "print(a)\n",
        "\n",
        "a = a * 2\n",
        "print(a)"
      ]
    },
    {
      "cell_type": "markdown",
      "metadata": {
        "id": "wuKd0l9gklkk"
      },
      "source": [
        "Some interesting functions"
      ]
    },
    {
      "cell_type": "code",
      "execution_count": null,
      "metadata": {
        "id": "Mn7QsiwLklkk"
      },
      "outputs": [],
      "source": [
        "a = np.random.rand(6)\n",
        "print(a)\n",
        "\n",
        "idx = np.argsort(a) # returns the indices that would sort the array\n",
        "print(idx)\n",
        "print(a[idx])"
      ]
    },
    {
      "cell_type": "code",
      "execution_count": 25,
      "metadata": {
        "colab": {
          "base_uri": "https://localhost:8080/"
        },
        "id": "Eilb4WV5klkk",
        "outputId": "945e3fcd-d91e-4bd7-8240-84ace68c8dfc"
      },
      "outputs": [
        {
          "output_type": "stream",
          "name": "stdout",
          "text": [
            "[0.97033132 0.5354501  0.04563151 0.97653108 0.44057176 0.19112048]\n",
            "Maximum:  0.9765310807984343  at index:  3\n",
            "Minimum:  0.04563150793994153  at index:  2\n"
          ]
        }
      ],
      "source": [
        "a = np.random.rand(6)\n",
        "print(a)\n",
        "\n",
        "max_a = np.max(a) # returns the maximum value of a\n",
        "max_idx = np.argmax(a) # returns the index of the maximum value of a\n",
        "print('Maximum: ', max_a, ' at index: ', max_idx)\n",
        "\n",
        "min_a = np.min(a) # returns the minimum value of a\n",
        "min_idx = np.argmin(a) # returns the index of the minimum value of a\n",
        "print('Minimum: ', min_a, ' at index: ', min_idx)"
      ]
    },
    {
      "cell_type": "code",
      "execution_count": 27,
      "metadata": {
        "colab": {
          "base_uri": "https://localhost:8080/"
        },
        "id": "TBXWZaWqklkk",
        "outputId": "97535dfe-6037-4116-ec0c-e74861acc891"
      },
      "outputs": [
        {
          "output_type": "stream",
          "name": "stdout",
          "text": [
            "[0.23893299 0.42197955 0.14441666 0.4591573  0.86477596 0.37170112]\n",
            "[4]\n"
          ]
        },
        {
          "output_type": "execute_result",
          "data": {
            "text/plain": [
              "np.int64(4)"
            ]
          },
          "metadata": {},
          "execution_count": 27
        }
      ],
      "source": [
        "a = np.random.rand(6)\n",
        "print(a)\n",
        "\n",
        "idx = np.where(a > 0.5)[0] # returns the indices of the elements that are greater than 0.5\n",
        "print(idx)\n",
        "idx[0]"
      ]
    },
    {
      "cell_type": "markdown",
      "metadata": {
        "id": "yyEo5uSGklkl"
      },
      "source": [
        "Other relevant functions"
      ]
    },
    {
      "cell_type": "code",
      "execution_count": 34,
      "metadata": {
        "colab": {
          "base_uri": "https://localhost:8080/"
        },
        "id": "NGMghUxVklkl",
        "outputId": "75b7bee2-b395-4d2f-e568-a701aac62679"
      },
      "outputs": [
        {
          "output_type": "stream",
          "name": "stdout",
          "text": [
            "[0.17755408 0.99677322 0.99911407 0.05062648 0.73350033 0.46490433]\n"
          ]
        },
        {
          "output_type": "execute_result",
          "data": {
            "text/plain": [
              "np.float64(0.5992023297382172)"
            ]
          },
          "metadata": {},
          "execution_count": 34
        }
      ],
      "source": [
        "a = np.random.rand(6)\n",
        "print(a)\n",
        "\n",
        "np.sum(a)\n",
        "\n",
        "np.mean(a)\n",
        "\n",
        "np.std(a)\n",
        "\n",
        "np.var(a)\n",
        "\n",
        "np.median(a)\n",
        "\n",
        "np.percentile()\n"
      ]
    },
    {
      "cell_type": "markdown",
      "metadata": {
        "id": "pOP1CZWAklkl"
      },
      "source": [
        "Exercise: You are given a NumPy array representing monthly sales (in $1,000s) for a small business over 12 months. Use NumPy to perform basic analysis.\n",
        "1. Calculate total and average sales\n",
        "2. Find the month with the highest and lowest sales\n",
        "3. List months with sales above average\n",
        "4. Sort sales and show rankings\n",
        "\n",
        "sales = np.array([23, 19, 31, 25, 29, 33, 28, 26, 35, 40, 38, 30])  # Jan to Dec"
      ]
    },
    {
      "cell_type": "code",
      "execution_count": 74,
      "metadata": {
        "colab": {
          "base_uri": "https://localhost:8080/"
        },
        "id": "57s2CCvQklkl",
        "outputId": "53fea39d-8f28-4504-bded-4d1b19ea0eb3"
      },
      "outputs": [
        {
          "output_type": "stream",
          "name": "stdout",
          "text": [
            "357\n",
            "Average sales:  29.75 thousand USD\n",
            "9\n",
            "1\n",
            "(array([ 2,  5,  8,  9, 10, 11]),) 1\n",
            "[ 1  0  3  7  6  4 11  2  5  8 10  9]\n",
            "[19 23 25 26 28 29 30 31 33 35 38 40]\n",
            "Sorted Months:  [10 11  9  6  3 12  5  7  8  4  1  2]\n"
          ]
        }
      ],
      "source": [
        "sales = np.array([23, 19, 31, 25, 29, 33, 28, 26, 35, 40, 38, 30])\n",
        "\n",
        "# Total and Average Sales\n",
        "\n",
        "print(np.sum(sales))\n",
        "\n",
        "  # prettier\n",
        "\n",
        "avg_sales = np.mean(sales)\n",
        "print(\"Average sales: \", avg_sales, \"thousand USD\")\n",
        "\n",
        "# Months with the max and min sales\n",
        "\n",
        "month_max = np.argmax(sales)\n",
        "month_min = np.argmin(sales)\n",
        "print(month_max)\n",
        "print(month_min)\n",
        "\n",
        "# List months with sales above average\n",
        "idx = np.where(sales > 29.75)\n",
        "print(idx, +1)\n",
        "  # Ranking sales\n",
        "ranks = np.argsort(sales)\n",
        "print(ranks)\n",
        "print(sales[ranks])\n",
        "\n",
        "#Alice's answer\n",
        "sorted_sales = np.argsort(sales)[::-1]\n",
        "print(\"Sorted Months: \", sorted_sales +1)"
      ]
    }
  ],
  "metadata": {
    "kernelspec": {
      "display_name": "sequence-corsmed",
      "language": "python",
      "name": "python3"
    },
    "language_info": {
      "codemirror_mode": {
        "name": "ipython",
        "version": 3
      },
      "file_extension": ".py",
      "mimetype": "text/x-python",
      "name": "python",
      "nbconvert_exporter": "python",
      "pygments_lexer": "ipython3",
      "version": "3.8.15"
    },
    "colab": {
      "provenance": []
    }
  },
  "nbformat": 4,
  "nbformat_minor": 0
}