{
  "cells": [
    {
      "cell_type": "markdown",
      "metadata": {
        "id": "view-in-github",
        "colab_type": "text"
      },
      "source": [
        "<a href=\"https://colab.research.google.com/github/valeria-angelino/ReDI-school---Python/blob/main/Basic_Python.ipynb\" target=\"_parent\"><img src=\"https://colab.research.google.com/assets/colab-badge.svg\" alt=\"Open In Colab\"/></a>"
      ]
    },
    {
      "cell_type": "markdown",
      "metadata": {
        "id": "5DxJi0LGXzUu"
      },
      "source": [
        "# 1.  PYTHON BASICS"
      ]
    },
    {
      "cell_type": "markdown",
      "metadata": {
        "id": "3MRu0c2AX9bC"
      },
      "source": [
        "## 1.1 Syntax, Variables, and Data Types."
      ]
    },
    {
      "cell_type": "code",
      "execution_count": null,
      "metadata": {
        "id": "-ZBtXwe7ZY2S",
        "colab": {
          "base_uri": "https://localhost:8080/"
        },
        "outputId": "d4b60cd0-ce59-4bb3-e568-d539bb11fb62"
      },
      "outputs": [
        {
          "output_type": "stream",
          "name": "stdout",
          "text": [
            "Hello ReDI\n"
          ]
        }
      ],
      "source": [
        "# Write the code that prints the line \"Hello ReDi!\"\n",
        "\n",
        "print(\"Hello ReDI\")"
      ]
    },
    {
      "cell_type": "markdown",
      "metadata": {
        "id": "PGhpZe-8YH0h"
      },
      "source": [
        "### Variables\n",
        "\n",
        "Variables are like boxes where you can store things. You can name your box (variable) anything you want."
      ]
    },
    {
      "cell_type": "code",
      "execution_count": null,
      "metadata": {
        "id": "pb2bOlPwZy9B"
      },
      "outputs": [],
      "source": [
        "# create 3 variables: a string, a float and an integer.\n",
        "# print the values of these variables on screen\n",
        "\n",
        "mystrin = \"Zigue\"\n",
        "myflo = 3.1416\n",
        "myint = 8"
      ]
    },
    {
      "cell_type": "markdown",
      "source": [
        "### OPTIONAL ADVANCED EXERCISE"
      ],
      "metadata": {
        "id": "5xJKhOr6sulk"
      }
    },
    {
      "cell_type": "code",
      "source": [
        "pi = 3.14\n",
        "x = 42\n",
        "\n",
        "# Use the f\"\" string formatting option in Python to print on screen a mix of\n",
        "# text and the value of the variables pi and x\n",
        "\n",
        "print(f\"The value of Pi is {pi} and the value of x is {x}.\")"
      ],
      "metadata": {
        "id": "gIjw-6thsUM_",
        "colab": {
          "base_uri": "https://localhost:8080/"
        },
        "outputId": "ed09c98c-2fbf-4ded-8034-404122d75761"
      },
      "execution_count": 3,
      "outputs": [
        {
          "output_type": "stream",
          "name": "stdout",
          "text": [
            "The value of Pi is 3.14 and the value of x is 42.\n"
          ]
        }
      ]
    },
    {
      "cell_type": "markdown",
      "metadata": {
        "id": "wSanbdg3axGK"
      },
      "source": [
        "## 1.2 Functions\n",
        "\n",
        "Imagine you have a little robot. You can teach this robot to do a specific task, like singing a song. Once you've taught the robot this task, you can ask it to sing the song whenever you want. In Python, we can teach our computer to do specific tasks by creating functions"
      ]
    },
    {
      "cell_type": "code",
      "execution_count": 5,
      "metadata": {
        "id": "c5WVRE6Xbmvv"
      },
      "outputs": [],
      "source": [
        "# Create a function called sing_song() that prints on screen the line \"Twinkle, twinkle, little star\"\n",
        "# Use the function to print the line on screen\n",
        "\n",
        "def sing_song():\n",
        "  print(\"Twinkle, Twinkle, Little Star\")"
      ]
    },
    {
      "cell_type": "code",
      "source": [
        "sing_song()"
      ],
      "metadata": {
        "id": "w7C-inqw00C3",
        "outputId": "da2b3f5d-060a-4da9-c250-745fc4d5ccb4",
        "colab": {
          "base_uri": "https://localhost:8080/"
        }
      },
      "execution_count": 6,
      "outputs": [
        {
          "output_type": "stream",
          "name": "stdout",
          "text": [
            "Twinkle, Twinkle, Little Star\n"
          ]
        }
      ]
    },
    {
      "cell_type": "markdown",
      "source": [
        "### OPTIONAL ADVANCED EXERCISE"
      ],
      "metadata": {
        "id": "f1bnLm5qrS-H"
      }
    },
    {
      "cell_type": "code",
      "source": [
        "# Exercise: Math Module\n",
        "\n",
        "# 1. Import the math module\n",
        "import math\n",
        "\n",
        "# 2. Calculate the square root of 16 and print the result.\n",
        "math.sqrt(16)\n",
        "\n",
        "# 3. Calculate the value of pi and print it.\n",
        "math.pi\n",
        "\n",
        "# 4. Calculate the exponential of 2 (e^2) and print the result.\n",
        "math.e**2\n",
        "\n",
        "# 5. Calculate the logarithm (base 10) of 100 and print the result.\n",
        "math.log(100, 10)\n",
        "\n",
        "# 6. Calculate the ceiling of 3.2 and print the result.\n",
        "\n",
        "\n",
        "# 7. Calculate the floor of 3.8 and print the result.\n",
        "\n",
        "# 8. Calculate the factorial of 5 and print the result.\n",
        "\n"
      ],
      "metadata": {
        "id": "O3U6n-PQrENj",
        "colab": {
          "base_uri": "https://localhost:8080/"
        },
        "outputId": "f309253a-70f2-46b9-bfa6-f21a9be72bec"
      },
      "execution_count": null,
      "outputs": [
        {
          "output_type": "execute_result",
          "data": {
            "text/plain": [
              "2.0"
            ]
          },
          "metadata": {},
          "execution_count": 14
        }
      ]
    },
    {
      "cell_type": "markdown",
      "metadata": {
        "id": "RvTBMUP7-cBE"
      },
      "source": [
        "## 1.4 Flow control statements\n",
        "\n",
        "if statement: a block of code is executed when a given conditions is met\n"
      ]
    },
    {
      "cell_type": "code",
      "execution_count": null,
      "metadata": {
        "id": "BPbhFJ95-cBG",
        "colab": {
          "base_uri": "https://localhost:8080/"
        },
        "outputId": "ec4166ad-8d1e-483d-bb4d-97494cf99c4d"
      },
      "outputs": [
        {
          "output_type": "stream",
          "name": "stdout",
          "text": [
            "8 is Even\n"
          ]
        }
      ],
      "source": [
        "# Create a variable 'x' containing an integer value of your choice.\n",
        "# Write code that checks whether the value of 'x' is odd or even,\n",
        "# and prints a message on screen with either 'Odd number' or 'Even number'.\n",
        "\n",
        "x = 8\n",
        "\n",
        "if(x % 2) == 0:\n",
        "  print(\"8 is Even\")\n",
        "else:\n",
        "  print(\"8 is Odd\")"
      ]
    },
    {
      "cell_type": "markdown",
      "metadata": {
        "id": "jcYKPbtN-cBG"
      },
      "source": [
        "I can write if statements where multiple conditions have to be met"
      ]
    },
    {
      "cell_type": "code",
      "execution_count": null,
      "metadata": {
        "id": "BBVEdmHE-cBH",
        "colab": {
          "base_uri": "https://localhost:8080/"
        },
        "outputId": "d18acdb6-1dfd-4936-95ca-d6313065534d"
      },
      "outputs": [
        {
          "output_type": "stream",
          "name": "stdout",
          "text": [
            "False\n"
          ]
        }
      ],
      "source": [
        "# Create 2 variables 'x' and 'y' containing float values of your choice.\n",
        "# Write code that checks if the value of both 'x' and 'y' is\n",
        "# greater or equal 10, and displays a message if it is True.\n",
        "\n",
        "x = 13.04\n",
        "y = 7.01\n",
        "\n",
        "if(x >= 10 and y>=10):\n",
        "  print(\"True\")\n",
        "else:\n",
        "  print(\"False\")"
      ]
    },
    {
      "cell_type": "markdown",
      "metadata": {
        "id": "rdbdqlWx-cBH"
      },
      "source": [
        "or where only one among several conditions has to be met"
      ]
    },
    {
      "cell_type": "code",
      "execution_count": null,
      "metadata": {
        "id": "lFUxRxPv-cBH",
        "colab": {
          "base_uri": "https://localhost:8080/"
        },
        "outputId": "34a5878b-6d24-4fbc-a52c-6160a11edd8c"
      },
      "outputs": [
        {
          "output_type": "stream",
          "name": "stdout",
          "text": [
            "True\n"
          ]
        }
      ],
      "source": [
        "# Create 2 variables 'x' and 'y' containing float values of your choice.\n",
        "# Write code that checks if the value of either 'x' or 'y' is smaller or\n",
        "# equal 10, and displays a message if it is True.\n",
        "\n",
        "x = 83.2\n",
        "y = 1.5\n",
        "\n",
        "if(x >= 10 or y>= 10):\n",
        "  print(\"True\")\n",
        "else:\n",
        "  print(\"False\")"
      ]
    },
    {
      "cell_type": "markdown",
      "source": [
        "or an if-else statement where I can describe multiple conditions"
      ],
      "metadata": {
        "id": "D6wIDqRQgqSO"
      }
    },
    {
      "cell_type": "code",
      "execution_count": null,
      "metadata": {
        "id": "sGLo_2LM-cBH",
        "colab": {
          "base_uri": "https://localhost:8080/"
        },
        "outputId": "cd334f13-7ffa-4750-c0ea-3747d39a2c9d"
      },
      "outputs": [
        {
          "output_type": "stream",
          "name": "stdout",
          "text": [
            "Smaller than 42\n"
          ]
        }
      ],
      "source": [
        "# Create a variable 'x' containing an integer of your choice.\n",
        "# Write an if-else statement that:\n",
        "# if x is smaller than 42, print the line \"Smaller than 42\"\n",
        "# if x is equal to 42, print the line \"The number is 42\"\n",
        "# if x is greater than 42, print the line \"Greater than 42\"\n",
        "\n",
        "\n",
        "x = 8\n",
        "\n",
        "if x < 42:\n",
        "  print(\"Smaller than 42\")\n",
        "if x == 42:\n",
        "  print(\"The number is 42\")\n",
        "if x > 42:\n",
        "  print(\"Greater than 42\")"
      ]
    },
    {
      "cell_type": "markdown",
      "source": [
        "### OPTIONAL ADVANCED EXERCISE"
      ],
      "metadata": {
        "id": "sURdN0BWrwb6"
      }
    },
    {
      "cell_type": "code",
      "source": [
        "# Work with match case in Python. Args: number: An integer.\n",
        "#Returns:\n",
        "    #A string describing the number's properties.\n",
        "\n",
        "def analyze_number(number_input):\n",
        " match number_input:\n",
        "    case 0:\n",
        "      return \"The number is Zero\"\n",
        "    case _ if number_input <0:\n",
        "      return \"The number is negative\"\n",
        "    case _:\n",
        "      return \"The number is neither Zero nor Negative\"\n",
        "\n",
        "# Get input from the user\n",
        "number_input = int(input(\"Enter a number: \"))\n",
        "\n",
        "# Analyze the number and print the result\n",
        "analyze_number(number_input)"
      ],
      "metadata": {
        "colab": {
          "base_uri": "https://localhost:8080/",
          "height": 52
        },
        "id": "UF9rWwPCrz4I",
        "outputId": "be6d4242-ee0c-4707-afbd-b29ca460d3f1"
      },
      "execution_count": 9,
      "outputs": [
        {
          "name": "stdout",
          "output_type": "stream",
          "text": [
            "Enter a number: 4\n"
          ]
        },
        {
          "output_type": "execute_result",
          "data": {
            "text/plain": [
              "'The number is neither Zero nor Negative'"
            ],
            "application/vnd.google.colaboratory.intrinsic+json": {
              "type": "string"
            }
          },
          "metadata": {},
          "execution_count": 9
        }
      ]
    },
    {
      "cell_type": "markdown",
      "source": [
        "Then take the quiz [here](https://realpython.com/quizzes/python-basics-conditional-logic-and-control-flow/https://)"
      ],
      "metadata": {
        "id": "f1ma9DmiuU6N"
      }
    },
    {
      "cell_type": "markdown",
      "metadata": {
        "id": "KQ6jpz4VfTl4"
      },
      "source": [
        "# 2. Data structures"
      ]
    },
    {
      "cell_type": "markdown",
      "metadata": {
        "id": "IXpnoGGCT7BS"
      },
      "source": [
        "### 2.1 Lists\n",
        "\n",
        "A list is used to store multiple items in a single variable. It's a collection which is also ordered, indexed, and which permits duplicate values. A list is written with square brackets: [ ]. Each item in the list has an index, or position within that list. In Python, we start counting from 0 rather than 1. As a result, python lists are zero-indexed."
      ]
    },
    {
      "cell_type": "code",
      "execution_count": 10,
      "metadata": {
        "id": "YLyQ0vp2T7BS",
        "colab": {
          "base_uri": "https://localhost:8080/"
        },
        "outputId": "009eb7f6-433a-46e8-d65c-7ef8e06b4e30"
      },
      "outputs": [
        {
          "output_type": "stream",
          "name": "stdout",
          "text": [
            "['Dark Green', 'Baby Pink', 'Lavender', 'White']\n",
            "Dark Green\n"
          ]
        }
      ],
      "source": [
        "# Create a variable 't' containing a list of your 4 favorite colors\n",
        "# print the values of the list on screen\n",
        "# Then, print the value of the first element on screen\n",
        "\n",
        "\n",
        "t = [\"Dark Green\", \"Baby Pink\", \"Lavender\", \"White\"]\n",
        "\n",
        "print(t)\n",
        "\n",
        "print(t[0])"
      ]
    },
    {
      "cell_type": "markdown",
      "metadata": {
        "id": "x_am5H8BT7BS"
      },
      "source": [
        "### 2.2 Slicing\n",
        "\n",
        "If we want to access multiple items we can use slicing: my_list[a:b] gives us every item from index a (inclusive) to index b (exclusive)."
      ]
    },
    {
      "cell_type": "code",
      "execution_count": 11,
      "metadata": {
        "id": "i124_PNDT7BS",
        "colab": {
          "base_uri": "https://localhost:8080/"
        },
        "outputId": "45c16240-3efc-42a6-ece4-076b48f087fd"
      },
      "outputs": [
        {
          "output_type": "stream",
          "name": "stdout",
          "text": [
            "['Baby Pink', 'Lavender']\n"
          ]
        }
      ],
      "source": [
        "# Using the same list 't' created above, create a smaller list 'k'\n",
        "# containing the values at the 2nd and 3rd positions.\n",
        "# Print on screen the values of this new list 'k'\n",
        "\n",
        "t = [\"Dark Green\", \"Baby Pink\", \"Lavender\", \"White\"]\n",
        "k = t[1:3]\n",
        "print(k)"
      ]
    },
    {
      "cell_type": "markdown",
      "metadata": {
        "id": "OBa_yuVdT7BS"
      },
      "source": [
        "We can get everything up to a specified index by leaving the left-hand-side of the colon blank."
      ]
    },
    {
      "cell_type": "code",
      "execution_count": 12,
      "metadata": {
        "id": "Md0mJgYAT7BS",
        "colab": {
          "base_uri": "https://localhost:8080/"
        },
        "outputId": "30189429-d11c-4dd2-af25-f636839c9ad2"
      },
      "outputs": [
        {
          "output_type": "stream",
          "name": "stdout",
          "text": [
            "['Dark Green', 'Baby Pink', 'Lavender']\n"
          ]
        }
      ],
      "source": [
        "# Using the same list 't' created above, create a smaller list 'k'\n",
        "# containing the values up to the 3rd positions.\n",
        "# Print on screen the values of this new list 'k'\n",
        "\n",
        "t = [\"Dark Green\", \"Baby Pink\", \"Lavender\", \"White\"]\n",
        "k = t[:3]\n",
        "print(k)"
      ]
    },
    {
      "cell_type": "markdown",
      "source": [
        "### OPTIONAL ADVANCED EXERCISE"
      ],
      "metadata": {
        "id": "OClFhyM_uDgq"
      }
    },
    {
      "cell_type": "code",
      "source": [
        "import math\n",
        "\n",
        "# Exercise: List Comprehension\n",
        "\n",
        "# 1. Create a list of squares of numbers from 1 to 10 using list comprehension.\n",
        "# Then print the list in screen\n",
        "\n",
        "sqrs = [num**2 for num in range(1, 11)]\n",
        "print(sqrs)\n",
        "\n",
        "# Exercise: List Comprehension with Conditions\n",
        "\n",
        "# 1. Create a list of numbers from 1 to 20 that are divisible by 3 using list\n",
        "# comprehension. Then print the values on screen\n",
        "\n",
        "div_by_3 = [num for num in range(1, 21) if num % 3 == 0]\n",
        "print(div_by_3)\n",
        "\n",
        "# 2. Create a list of the squares of even numbers from 1 to 10 using list comprehension. Then print the values on screen\n",
        "\n",
        "squared_even = [num**2 for num in range(1, 10) if num % 2 == 0]\n",
        "print(squared_even)\n"
      ],
      "metadata": {
        "id": "Ev8wRhhys2y4",
        "colab": {
          "base_uri": "https://localhost:8080/"
        },
        "outputId": "581a1b60-aaab-436d-e91d-926f307d3d89"
      },
      "execution_count": 18,
      "outputs": [
        {
          "output_type": "stream",
          "name": "stdout",
          "text": [
            "[1, 4, 9, 16, 25, 36, 49, 64, 81, 100]\n",
            "[3, 6, 9, 12, 15, 18]\n",
            "[4, 16, 36, 64]\n"
          ]
        }
      ]
    },
    {
      "cell_type": "markdown",
      "metadata": {
        "id": "UYVhAsS6T7BT"
      },
      "source": [
        "### 2.4 Dictionaries\n",
        "\n",
        "\n",
        "In Python, a dictionary contains a look-up key and a corresponding value. It's a collection which is ordered and mutable. It does not permit duplicate items. A dictionary is written with curly brackets: { }. The keys are strings, but the values can take any data type.\n",
        "\n",
        "The syntax is:\n",
        "\n",
        "{key1: value1, key2: value2, key3: value3}"
      ]
    },
    {
      "cell_type": "code",
      "execution_count": 19,
      "metadata": {
        "id": "t5W6QsxcT7BT",
        "colab": {
          "base_uri": "https://localhost:8080/"
        },
        "outputId": "05e7167b-136c-4955-b971-ee25654cbdb5"
      },
      "outputs": [
        {
          "output_type": "stream",
          "name": "stdout",
          "text": [
            "{'Edgar': 'Sjoberg', 'Valeria': 'Angelino'}\n"
          ]
        }
      ],
      "source": [
        "# create a variable 'd' containing a dictionary of pairs of names and surnames,\n",
        "# where the name is the key and the surname is the value\n",
        "# Then print the dictionary on screen\n",
        "\n",
        "d = {\n",
        "    \"Edgar\":\"Sjoberg\",\n",
        "    \"Valeria\":\"Angelino\"\n",
        "}\n",
        "\n",
        "print(d)"
      ]
    },
    {
      "cell_type": "markdown",
      "metadata": {
        "id": "OyLledGoHQa3"
      },
      "source": [
        "#### Retrieving Values\n",
        "We can retrieve items from a dictionary just like we would from a list, using square brackets but passing in the key instead of the index."
      ]
    },
    {
      "cell_type": "code",
      "execution_count": 21,
      "metadata": {
        "id": "_0r7QSJqHQa3",
        "colab": {
          "base_uri": "https://localhost:8080/"
        },
        "outputId": "feed3e39-2f9e-4b54-8610-ce0b0d8d1da0"
      },
      "outputs": [
        {
          "output_type": "stream",
          "name": "stdout",
          "text": [
            "Sjoberg\n"
          ]
        }
      ],
      "source": [
        "# Using the variable 'd' created above, retrieve the surname associated to a\n",
        "# name and print it on screen\n",
        "\n",
        "surname = d['Edgar']\n",
        "print(surname)"
      ]
    },
    {
      "cell_type": "markdown",
      "metadata": {
        "id": "hDgl6ebtHQa3"
      },
      "source": [
        "#### Adding Items\n",
        "Adding items to a dictionary is very similar to retrieving them. Again, we use square bracket notation."
      ]
    },
    {
      "cell_type": "code",
      "execution_count": 23,
      "metadata": {
        "id": "LLx1sMvyHQa4",
        "colab": {
          "base_uri": "https://localhost:8080/"
        },
        "outputId": "eb5027cb-15be-48a1-a494-c5db15576127"
      },
      "outputs": [
        {
          "output_type": "stream",
          "name": "stdout",
          "text": [
            "Goldita\n"
          ]
        }
      ],
      "source": [
        "# Add the pair {\"Davide\": \"Frazzetto\"} pair to the dictionary 'd'\n",
        "# Then as above, retrieve the surname associated to the name \"Davide\"\n",
        "\n",
        "d[\"Kira\"] = \"Goldita\"\n",
        "\n",
        "surname = d[\"Kira\"]\n",
        "print(surname)"
      ]
    },
    {
      "cell_type": "markdown",
      "source": [
        "### OPTIONAL ADVANCED EXERCISE"
      ],
      "metadata": {
        "id": "hKS7ZnIeupxm"
      }
    },
    {
      "cell_type": "code",
      "source": [
        "# Working with json as dictionaries\n",
        "import json\n",
        "\n",
        "# Sample JSON string\n",
        "json_string = \"\"\"\n",
        "{\n",
        "  \"name\": \"John Doe\",\n",
        "  \"age\": 30,\n",
        "  \"city\": \"New York\",\n",
        "  \"occupation\": \"Software Engineer\",\n",
        "  \"skills\": [\"Python\", \"Java\", \"JavaScript\"],\n",
        "  \"address\": {\n",
        "    \"street\": \"123 Main Street\",\n",
        "    \"zipcode\": \"10001\"\n",
        "  }\n",
        "}\n",
        "\"\"\"\n",
        "\n",
        "# Load JSON string into a Python dictionary\n",
        "\n",
        "json_info = {\n",
        "    \"name\": \"John Doe\",\n",
        "    \"age\": 30,\n",
        "    \"city\": \"New York\",\n",
        "    \"occupation\": \"Software Engineer\",\n",
        "   \"skills\": [\"Python\", \"Java\", \"JavaScript\"],\n",
        "    \"address\": {\n",
        "    \"street\": \"123 Main Street\",\n",
        "    \"zipcode\": \"10001\"\n",
        "  }\n",
        "}\n",
        "\n",
        "# Print the dictionary\n",
        "print(json_info)\n",
        "# Access city value\n",
        "print(json_info[\"city\"])\n",
        "# Access zipcode value\n",
        "print(json_info[\"address\"][\"zipcode\"])"
      ],
      "metadata": {
        "id": "GOAcZhERuo28",
        "colab": {
          "base_uri": "https://localhost:8080/"
        },
        "outputId": "35de6b7f-24a3-41c3-c415-b68167d58952"
      },
      "execution_count": 30,
      "outputs": [
        {
          "output_type": "stream",
          "name": "stdout",
          "text": [
            "{'name': 'John Doe', 'age': 30, 'city': 'New York', 'occupation': 'Software Engineer', 'skills': ['Python', 'Java', 'JavaScript'], 'address': {'street': '123 Main Street', 'zipcode': '10001'}}\n",
            "New York\n",
            "10001\n"
          ]
        }
      ]
    },
    {
      "cell_type": "markdown",
      "source": [
        "# 3 Loops"
      ],
      "metadata": {
        "id": "jcTX8rVkiggy"
      }
    },
    {
      "cell_type": "markdown",
      "metadata": {
        "id": "3WSY_5C9-cBJ"
      },
      "source": [
        "for loops: used to iterate through the items in a Python collection, such as lists or strings"
      ]
    },
    {
      "cell_type": "code",
      "execution_count": null,
      "metadata": {
        "id": "dFVMDZ0f-cBJ",
        "colab": {
          "base_uri": "https://localhost:8080/"
        },
        "outputId": "9fbe9e6e-b241-4ada-e1a5-071b205db2f9"
      },
      "outputs": [
        {
          "output_type": "stream",
          "name": "stdout",
          "text": [
            "45\n"
          ]
        }
      ],
      "source": [
        "# Given the list 't' containing a list of 10 integers.\n",
        "# Write the code that sums all the numbers in 't' by iterating through them,\n",
        "# and prints the total on screen\n",
        "# the result should be 45\n",
        "\n",
        "t = [0, 1, 2, 3, 4, 5, 6, 7, 8, 9]\n",
        "\n",
        "total = 0\n",
        "for number in t:\n",
        "  total += number\n",
        "\n",
        "print(total)"
      ]
    },
    {
      "cell_type": "code",
      "execution_count": null,
      "metadata": {
        "id": "cH2PxCiz-cBJ",
        "colab": {
          "base_uri": "https://localhost:8080/"
        },
        "outputId": "10dd41e0-b20e-4c89-e58a-f30dd73a41d8"
      },
      "outputs": [
        {
          "output_type": "stream",
          "name": "stdout",
          "text": [
            "25\n"
          ]
        }
      ],
      "source": [
        "# Create a variable 't' containing a list of 10 integers.\n",
        "# Write the code that sums all the EVEN numbers in 't' by iterating through them,\n",
        "# and prints the total on screen\n",
        "# the result should be 20\n",
        "\n",
        "t = [0, 1, 2, 3, 4, 5, 6, 7, 8, 9]\n",
        "\n",
        "total = 0\n",
        "for number in t:\n",
        "  if number % 2:\n",
        "    total += number\n",
        "\n",
        "print(total)"
      ]
    },
    {
      "cell_type": "markdown",
      "metadata": {
        "id": "oKMRO5pr-cBJ"
      },
      "source": [
        "the for loop can be used to perform a series of operations a specific number of times;\n",
        "to do so a collection of numbers of the appropriate size can be generated using the  range() function\n",
        "\n",
        "range() takes in 3 arguments (int):\n",
        "1.   start\n",
        "2.   end\n",
        "3.   step\n",
        "\n",
        "if only 1 parameters is passed as input range(n) returns a numeric series starting with 0 and extending up to but not including n\n",
        "\n",
        "ex1: range(11,20,3) returns a series of integers from 11 to 20 in steps of 3\n",
        "\n",
        "ex2: range(10) returns a series of integers from 0 to 9"
      ]
    },
    {
      "cell_type": "code",
      "source": [
        "# Given the string s, print every letter of the string 's' one at a time by\n",
        "# iterating with a for loop over the range of the length of s\n",
        "# You can find the length of a string (or a list) with the function len(s)\n",
        "\n",
        "\n",
        "s = \"Kiriswiris\" #name of my cat\n",
        "\n",
        "for letter in range(len(s)):\n",
        "  print(s[letter])\n",
        "\n",
        "\n",
        "  # Simple version\n",
        "for letter in s:\n",
        "  print(letter)"
      ],
      "metadata": {
        "id": "UcnmRy0pmup3",
        "colab": {
          "base_uri": "https://localhost:8080/"
        },
        "outputId": "a8119ad5-7a47-440f-f348-d2cf5c92416f"
      },
      "execution_count": 33,
      "outputs": [
        {
          "output_type": "stream",
          "name": "stdout",
          "text": [
            "K\n",
            "i\n",
            "r\n",
            "i\n",
            "s\n",
            "w\n",
            "i\n",
            "r\n",
            "i\n",
            "s\n",
            "K\n",
            "i\n",
            "r\n",
            "i\n",
            "s\n",
            "w\n",
            "i\n",
            "r\n",
            "i\n",
            "s\n"
          ]
        }
      ]
    },
    {
      "cell_type": "markdown",
      "source": [
        "### OPTIONAL ADVANCED EXERCISE"
      ],
      "metadata": {
        "id": "KSfdLeXUQMpQ"
      }
    },
    {
      "cell_type": "code",
      "source": [
        "# Iterating through dictionaries\n",
        "# create a variable 'd' containing a dictionary of pairs of names and surnames,\n",
        "# where the name is the key and the surname is the value\n",
        "\n",
        "d = {\"John\": \"Doe\", \"Jane\": \"Smith\", \"Peter\": \"Jones\"}\n",
        "\n",
        "\n",
        "# Iterate through the dictionary and print all key-value pairs\n",
        "\n",
        "for name, surname in d.items():\n",
        "  print(f\"Name: {name}, Surname.: {surname}\")"
      ],
      "metadata": {
        "id": "38g_ilDgP5dl",
        "colab": {
          "base_uri": "https://localhost:8080/"
        },
        "outputId": "bcaf9b93-fc67-4dd0-b3d7-1524913799c2"
      },
      "execution_count": 34,
      "outputs": [
        {
          "output_type": "stream",
          "name": "stdout",
          "text": [
            "Name: John, Surname.: Doe\n",
            "Name: Jane, Surname.: Smith\n",
            "Name: Peter, Surname.: Jones\n"
          ]
        }
      ]
    }
  ],
  "metadata": {
    "colab": {
      "provenance": [],
      "collapsed_sections": [
        "5xJKhOr6sulk",
        "f1bnLm5qrS-H",
        "OClFhyM_uDgq",
        "hKS7ZnIeupxm",
        "KSfdLeXUQMpQ"
      ],
      "include_colab_link": true
    },
    "kernelspec": {
      "display_name": "Python 3 (ipykernel)",
      "language": "python",
      "name": "python3"
    },
    "language_info": {
      "codemirror_mode": {
        "name": "ipython",
        "version": 3
      },
      "file_extension": ".py",
      "mimetype": "text/x-python",
      "name": "python",
      "nbconvert_exporter": "python",
      "pygments_lexer": "ipython3",
      "version": "3.10.9"
    }
  },
  "nbformat": 4,
  "nbformat_minor": 0
}