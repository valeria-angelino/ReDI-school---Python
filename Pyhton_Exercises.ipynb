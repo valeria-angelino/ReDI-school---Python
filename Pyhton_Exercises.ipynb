{
  "nbformat": 4,
  "nbformat_minor": 0,
  "metadata": {
    "colab": {
      "provenance": [],
      "authorship_tag": "ABX9TyPYQ3dc3c3wc38qvK8IrDtD",
      "include_colab_link": true
    },
    "kernelspec": {
      "name": "python3",
      "display_name": "Python 3"
    },
    "language_info": {
      "name": "python"
    }
  },
  "cells": [
    {
      "cell_type": "markdown",
      "metadata": {
        "id": "view-in-github",
        "colab_type": "text"
      },
      "source": [
        "<a href=\"https://colab.research.google.com/github/valeria-angelino/ReDI-school---Python/blob/main/Pyhton_Exercises.ipynb\" target=\"_parent\"><img src=\"https://colab.research.google.com/assets/colab-badge.svg\" alt=\"Open In Colab\"/></a>"
      ]
    },
    {
      "cell_type": "markdown",
      "source": [
        "Exercise 1.\n",
        "\n",
        "Write an if statement that asks for the user&#39;s name via input() function.\n",
        "\n",
        "If the name is &quot;Bond&quot; make it print &quot;Welcome on board 007.&quot;\n",
        "\n",
        "Otherwise make it print &quot;Good morning NAME&quot;.(Replace Name with user&#39;s name)"
      ],
      "metadata": {
        "id": "i2cDlLg2R_jA"
      }
    },
    {
      "cell_type": "code",
      "execution_count": 1,
      "metadata": {
        "colab": {
          "base_uri": "https://localhost:8080/"
        },
        "id": "j66XgOp4RzDg",
        "outputId": "dd1ff116-8868-4115-f5d2-77b2f3954b12"
      },
      "outputs": [
        {
          "output_type": "stream",
          "name": "stdout",
          "text": [
            "What is your name?bale\n",
            "Good morning bale.\n"
          ]
        }
      ],
      "source": [
        "name = input(\"What is your name? \")\n",
        "\n",
        "if name == \"Bond\":\n",
        "  print(\"Welcome on board 007.\")\n",
        "else:\n",
        "  print(f\"Good morning {name}.\")"
      ]
    },
    {
      "cell_type": "markdown",
      "source": [
        "Exercise 2.\n",
        "\n",
        "Iterate through the given list and if an element is equal to 100, assign a notification message\n",
        "to the variable my_message with the index of that element\n",
        "\n",
        "i.e.: &quot;There is a 100 at index no:\n",
        "5“\n",
        "\n",
        "lst = [10, 99, 98, 85, 45, 59, 65, 66, 76, 12, 35, 13, 100, 80, 95]"
      ],
      "metadata": {
        "id": "iITHqXejStEA"
      }
    },
    {
      "cell_type": "code",
      "source": [
        "hundred = [10, 99, 98, 85, 45, 59, 65, 66, 76, 12, 35, 13, 100, 80, 95]\n",
        "\n",
        "for num in range(len(hundred)):\n",
        "  if hundred[num] == 100:\n",
        "    print(f\"There is a 100 at index no. {num}\")\n"
      ],
      "metadata": {
        "colab": {
          "base_uri": "https://localhost:8080/"
        },
        "id": "9lYgEiY7S0-5",
        "outputId": "ac782ec7-064f-4364-c9f0-54e61f5d651b"
      },
      "execution_count": 2,
      "outputs": [
        {
          "output_type": "stream",
          "name": "stdout",
          "text": [
            "There is a 100 at index no. 12\n"
          ]
        }
      ]
    },
    {
      "cell_type": "markdown",
      "source": [
        "Exercise 3.\n",
        "\n",
        "Create a list with the squares of each element in the list below if the square is greater than\n",
        "50.\n",
        "\n",
        "*lst*=[2, 4, 6, 8, 10, 12, 14]"
      ],
      "metadata": {
        "id": "d4FM1TuFTkDZ"
      }
    },
    {
      "cell_type": "code",
      "source": [
        "lst = [2, 4, 6, 8, 10, 12, 14]\n",
        "\n",
        "squares = [num**2 for num in lst if num**2 > 50]\n",
        "\n",
        "print(squares)"
      ],
      "metadata": {
        "colab": {
          "base_uri": "https://localhost:8080/"
        },
        "id": "H0Pt2XVNTnYx",
        "outputId": "04359c91-8775-4657-b4bf-0a346a1102d4"
      },
      "execution_count": 3,
      "outputs": [
        {
          "output_type": "stream",
          "name": "stdout",
          "text": [
            "[64, 100, 144, 196]\n"
          ]
        }
      ]
    },
    {
      "cell_type": "markdown",
      "source": [
        "Exercise 4.\n",
        "\n",
        "Write a script that defines a small dictionary (5 or 6 words will be enough) English-to-your\n",
        "mother tongue.\n",
        "\n",
        "When run, the script should prompt the user for a word in your mother tongue and display the corresponding one in English.\n",
        "\n",
        "If the word is not present in the dictionary, the script will print all the words it is able to translate.\n",
        "\n",
        "NB: the script should be case insensitive."
      ],
      "metadata": {
        "id": "MFU0Xx4WUAPJ"
      }
    },
    {
      "cell_type": "code",
      "source": [
        "d = {\n",
        "    \"gato\":\"cat\",\n",
        "    \"perro\":\"dog\",\n",
        "    \"conejo\": \"bunny\",\n",
        "    \"lagartija\": \"lizzard\",\n",
        "    \"araña\": \"spider\"\n",
        "}\n",
        "\n",
        "word = input(\"Qué animal quieres traducir a inglés? \").lower()\n",
        "\n",
        "if word in d:\n",
        "  print(f\"{word} en inglés es {d[word]}.\")\n",
        "else:\n",
        "    print(\"Perdón, no sé traducir ese animal :((\")"
      ],
      "metadata": {
        "colab": {
          "base_uri": "https://localhost:8080/"
        },
        "id": "I7kwVKerULtr",
        "outputId": "48e680f4-a605-4071-d49b-7b87675e2ed8"
      },
      "execution_count": 17,
      "outputs": [
        {
          "output_type": "stream",
          "name": "stdout",
          "text": [
            "Qué animal quieres traducir a inglés? caballo\n",
            "Perdón, no sé traducir ese animal :((\n"
          ]
        }
      ]
    },
    {
      "cell_type": "markdown",
      "source": [
        "Exercise 5.\n",
        "\n",
        "Temperature in °C can be converted to °F using this formula: °F = (°C * 9/5) + 32.\n",
        "\n",
        "Write a function which converts °C to °F, convert_celsius_to_fahrenheit."
      ],
      "metadata": {
        "id": "FzoYHquSWkVq"
      }
    },
    {
      "cell_type": "code",
      "source": [
        "def convert_celsius_to_farenheit(celsius):\n",
        "  farenheit = (celsius * 9/5) + 32\n",
        "  return farenheit\n",
        "\n",
        "\n",
        "# Checking that it works\n",
        "temp_celsius = 21\n",
        "temp_farenheit = convert_celsius_to_farenheit(temp_celsius)\n",
        "print(f\"{temp_celsius} C is equivalent to {temp_farenheit} F\")"
      ],
      "metadata": {
        "colab": {
          "base_uri": "https://localhost:8080/"
        },
        "id": "bZisR3kDWsON",
        "outputId": "d771777b-5b20-47b6-99c0-5c34f4487e04"
      },
      "execution_count": 16,
      "outputs": [
        {
          "output_type": "stream",
          "name": "stdout",
          "text": [
            "21 C is equivalent to 69.8 F\n"
          ]
        }
      ]
    },
    {
      "cell_type": "markdown",
      "source": [
        "Exercise 6.\n",
        "\n",
        "Declare a function named reverse_list.\n",
        "\n",
        "It takes a list as a parameter and it returns the reverse of the list"
      ],
      "metadata": {
        "id": "uKtmAELtXn4N"
      }
    },
    {
      "cell_type": "code",
      "source": [
        "def reverse_list(lst):\n",
        "  return lst[::-1]\n",
        "\n",
        "\n",
        "# Checking that it works\n",
        "\n",
        "countup = [1, 2, 3, 4, 5]\n",
        "countdown = reverse_list(countup)\n",
        "print(countdown)\n"
      ],
      "metadata": {
        "colab": {
          "base_uri": "https://localhost:8080/"
        },
        "id": "XA4F3Y-SXs5y",
        "outputId": "3d1f6abd-37b6-4038-c364-3b8e0deaa369"
      },
      "execution_count": 19,
      "outputs": [
        {
          "output_type": "stream",
          "name": "stdout",
          "text": [
            "[5, 4, 3, 2, 1]\n"
          ]
        }
      ]
    }
  ]
}